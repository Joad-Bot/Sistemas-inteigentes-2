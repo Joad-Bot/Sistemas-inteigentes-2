{
  "nbformat": 4,
  "nbformat_minor": 0,
  "metadata": {
    "colab": {
      "provenance": [],
      "include_colab_link": true
    },
    "kernelspec": {
      "name": "python3",
      "display_name": "Python 3"
    },
    "language_info": {
      "name": "python"
    }
  },
  "cells": [
    {
      "cell_type": "markdown",
      "metadata": {
        "id": "view-in-github",
        "colab_type": "text"
      },
      "source": [
        "<a href=\"https://colab.research.google.com/github/Joad-Bot/Sistemas-inteigentes-2/blob/main/14%20Cinem%C3%A1tica%20Inversa/Cinem%C3%A1tica_directa_FK.ipynb\" target=\"_parent\"><img src=\"https://colab.research.google.com/assets/colab-badge.svg\" alt=\"Open In Colab\"/></a>"
      ]
    },
    {
      "cell_type": "code",
      "execution_count": 1,
      "metadata": {
        "id": "SwHqZDpRy-uj",
        "colab": {
          "base_uri": "https://localhost:8080/"
        },
        "outputId": "e75a29e7-86ec-4175-c724-832d0c7d883f"
      },
      "outputs": [
        {
          "output_type": "stream",
          "name": "stdout",
          "text": [
            "--2025-05-19 04:04:41--  https://raw.githubusercontent.com/Jegovila/SI2/main/14%20Cinem%C3%A1tica%20Inversa/Dibujar_Manipulador.py\n",
            "Resolving raw.githubusercontent.com (raw.githubusercontent.com)... 185.199.110.133, 185.199.108.133, 185.199.109.133, ...\n",
            "Connecting to raw.githubusercontent.com (raw.githubusercontent.com)|185.199.110.133|:443... connected.\n",
            "HTTP request sent, awaiting response... 200 OK\n",
            "Length: 1067 (1.0K) [text/plain]\n",
            "Saving to: ‘Dibujar_Manipulador.py’\n",
            "\n",
            "Dibujar_Manipulador 100%[===================>]   1.04K  --.-KB/s    in 0s      \n",
            "\n",
            "2025-05-19 04:04:41 (66.1 MB/s) - ‘Dibujar_Manipulador.py’ saved [1067/1067]\n",
            "\n"
          ]
        }
      ],
      "source": [
        "!wget -nc 'https://raw.githubusercontent.com/Jegovila/SI2/main/14%20Cinemática%20Inversa/Dibujar_Manipulador.py'\n",
        "\n",
        "import numpy as np\n",
        "import matplotlib.pyplot as plt\n",
        "from Dibujar_Manipulador import dibujar_manipulador"
      ]
    },
    {
      "cell_type": "markdown",
      "source": [
        "Longitud eslabones"
      ],
      "metadata": {
        "id": "3qIhmsvHzzb1"
      }
    },
    {
      "cell_type": "code",
      "source": [
        "a_1 = 0.35\n",
        "a_2 = 0.35\n",
        "a_3 = 0.25"
      ],
      "metadata": {
        "id": "ZyFNHCa1z1JS"
      },
      "execution_count": 2,
      "outputs": []
    },
    {
      "cell_type": "markdown",
      "source": [
        "Vector de coordenadas generalizadas"
      ],
      "metadata": {
        "id": "ur4qujBiz3YY"
      }
    },
    {
      "cell_type": "code",
      "source": [
        "q = [np.pi/4+0.2, -np.pi/2, np.pi-0.5]\n",
        "\n",
        "theta_1 = q[0]\n",
        "theta_2 = q[1]\n",
        "theta_3 = q[2]"
      ],
      "metadata": {
        "id": "UtbVDD-Gz5-5"
      },
      "execution_count": 3,
      "outputs": []
    },
    {
      "cell_type": "markdown",
      "source": [
        "Cinemática directa"
      ],
      "metadata": {
        "id": "qdsQD64Pz7JU"
      }
    },
    {
      "cell_type": "code",
      "source": [
        "p = np.array([a_2*np.cos(theta_1 + theta_2) + a_1*np.cos(theta_1) + a_3*np.cos(theta_1 + theta_2 + theta_3),\n",
        "                a_2*np.sin(theta_1 + theta_2) + a_1*np.sin(theta_1) + a_3*np.sin(theta_1 + theta_2 + theta_3)])"
      ],
      "metadata": {
        "id": "-ZPHDrQKz8Rv"
      },
      "execution_count": 4,
      "outputs": []
    },
    {
      "cell_type": "markdown",
      "source": [
        "Posición deseada"
      ],
      "metadata": {
        "id": "CtlVbslJz_kN"
      }
    },
    {
      "cell_type": "code",
      "source": [
        "pd = [0.4, 0.4]"
      ],
      "metadata": {
        "id": "CF3BKyR90A3w"
      },
      "execution_count": 5,
      "outputs": []
    },
    {
      "cell_type": "markdown",
      "source": [
        "Resultados"
      ],
      "metadata": {
        "id": "uHPBX5s50C66"
      }
    },
    {
      "cell_type": "code",
      "source": [
        "dibujar_manipulador(q)\n",
        "plt.scatter(pd[0], pd[1], marker='o', s=100)\n",
        "print(p)"
      ],
      "metadata": {
        "id": "bnW0BYJy0D6x",
        "colab": {
          "base_uri": "https://localhost:8080/",
          "height": 453
        },
        "outputId": "35c6cb37-23b2-4411-b084-eaf3762d5bef"
      },
      "execution_count": 6,
      "outputs": [
        {
          "output_type": "stream",
          "name": "stdout",
          "text": [
            "[0.36846806 0.31945861]\n"
          ]
        },
        {
          "output_type": "display_data",
          "data": {
            "text/plain": [
              "<Figure size 640x480 with 1 Axes>"
            ],
            "image/png": "[encoded data removed]"
          },
          "metadata": {}
        }
      ]
    }
  ]
}